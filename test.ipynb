{
 "cells": [
  {
   "cell_type": "code",
   "execution_count": 9,
   "metadata": {},
   "outputs": [
    {
     "name": "stdout",
     "output_type": "stream",
     "text": [
      "(datetime.datetime(2025, 6, 3, 0, 0), True)\n"
     ]
    }
   ],
   "source": [
    "from datetime import datetime\n",
    "import re\n",
    "\n",
    "def convert_to_date(date):\n",
    "    try:\n",
    "        date = date.split(\"\\n\")\n",
    "        date = date[-1].strip()\n",
    "        date = datetime.strptime(date, \"%b %d, %Y\")\n",
    "        return (date, True)\n",
    "    except ValueError:\n",
    "        return (date, False)\n",
    "\n",
    "date = 'Tuesday\\nJun 03, 2025'\n",
    "\n",
    "print(convert_to_date(date))"
   ]
  },
  {
   "cell_type": "code",
   "execution_count": 3,
   "metadata": {},
   "outputs": [
    {
     "name": "stdout",
     "output_type": "stream",
     "text": [
      "[',345', ',000']\n"
     ]
    }
   ],
   "source": [
    "import re\n",
    "\n",
    "pattern = r\"{}\\d{1,3}(,\\d{3})+\"  # Matches \"1,000\", \"12,345\", \"1,234,567\", etc.\n",
    "\n",
    "text = \"The population is 12,345 and the price is 1,000.\"\n",
    "\n",
    "matches = re.findall(pattern, text)\n",
    "print(matches)\n",
    "\n"
   ]
  },
  {
   "cell_type": "code",
   "execution_count": 14,
   "metadata": {},
   "outputs": [
    {
     "ename": "ModuleNotFoundError",
     "evalue": "No module named 'extract_time'",
     "output_type": "error",
     "traceback": [
      "\u001b[31m---------------------------------------------------------------------------\u001b[39m",
      "\u001b[31mModuleNotFoundError\u001b[39m                       Traceback (most recent call last)",
      "\u001b[36mCell\u001b[39m\u001b[36m \u001b[39m\u001b[32mIn[14]\u001b[39m\u001b[32m, line 1\u001b[39m\n\u001b[32m----> \u001b[39m\u001b[32m1\u001b[39m \u001b[38;5;28;01mfrom\u001b[39;00m\u001b[38;5;250m \u001b[39m\u001b[34;01mbackend\u001b[39;00m\u001b[34;01m.\u001b[39;00m\u001b[34;01morganizeData\u001b[39;00m\u001b[38;5;250m \u001b[39m\u001b[38;5;28;01mimport\u001b[39;00m query_hours_entries_openclock, database_setup\n\u001b[32m      2\u001b[39m \u001b[38;5;28;01mfrom\u001b[39;00m\u001b[38;5;250m \u001b[39m\u001b[34;01mbackend\u001b[39;00m\u001b[34;01m.\u001b[39;00m\u001b[34;01msetup\u001b[39;00m\u001b[38;5;250m \u001b[39m\u001b[38;5;28;01mimport\u001b[39;00m setup_driver\n\u001b[32m      3\u001b[39m \u001b[38;5;28;01mimport\u001b[39;00m\u001b[38;5;250m \u001b[39m\u001b[34;01mbackend\u001b[39;00m\u001b[34;01m.\u001b[39;00m\u001b[34;01mextract_time\u001b[39;00m\n",
      "\u001b[36mFile \u001b[39m\u001b[32m~/Desktop/College/IT_TimeSheet/backend/organizeData.py:1\u001b[39m\n\u001b[32m----> \u001b[39m\u001b[32m1\u001b[39m \u001b[38;5;28;01mimport\u001b[39;00m\u001b[38;5;250m \u001b[39m\u001b[34;01mextract_time\u001b[39;00m\n\u001b[32m      2\u001b[39m \u001b[38;5;28;01mimport\u001b[39;00m\u001b[38;5;250m \u001b[39m\u001b[34;01msqlite3\u001b[39;00m\n\u001b[32m      3\u001b[39m \u001b[38;5;28;01mfrom\u001b[39;00m\u001b[38;5;250m \u001b[39m\u001b[34;01mdatetime\u001b[39;00m\u001b[38;5;250m \u001b[39m\u001b[38;5;28;01mimport\u001b[39;00m datetime\n",
      "\u001b[31mModuleNotFoundError\u001b[39m: No module named 'extract_time'"
     ]
    }
   ],
   "source": [
    "from backend.organizeData import query_hours_entries_openclock, database_setup\n",
    "from backend.setup import setup_driver\n",
    "import backend.extract_time\n",
    "\n",
    "def convert_date_to_required_format(date):\n",
    "    date_obj = datetime.strptime(date, \"%Y-%m-%d\")\n",
    "\n",
    "    # Convert to required format\n",
    "    formatted_date = date_obj.strftime(\"%A\\n%b %d, %Y\")\n",
    "    print(formatted_date)\n",
    "\n",
    "    return formatted_date\n",
    "conn = database_setup()\n",
    "query_hours_entries_openclock(conn, \"srahman06\", \"2025-05-27\")\n",
    "\n",
    "\n"
   ]
  },
  {
   "cell_type": "code",
   "execution_count": 15,
   "metadata": {},
   "outputs": [
    {
     "name": "stdout",
     "output_type": "stream",
     "text": [
      "05/27/2025\n"
     ]
    }
   ],
   "source": [
    "def convert_date_to_required_format(date):\n",
    "        date_obj = datetime.strptime(date, \"%Y-%m-%d\")\n",
    "        formatted_date = date_obj.strftime(\"%m/%d/%Y\")\n",
    "        return formatted_date\n",
    "\n",
    "date = \"2025-05-27\"\n",
    "print(convert_date_to_required_format(date))"
   ]
  }
 ],
 "metadata": {
  "kernelspec": {
   "display_name": "venv",
   "language": "python",
   "name": "python3"
  },
  "language_info": {
   "codemirror_mode": {
    "name": "ipython",
    "version": 3
   },
   "file_extension": ".py",
   "mimetype": "text/x-python",
   "name": "python",
   "nbconvert_exporter": "python",
   "pygments_lexer": "ipython3",
   "version": "3.11.6"
  }
 },
 "nbformat": 4,
 "nbformat_minor": 2
}
