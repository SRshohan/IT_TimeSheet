{
 "cells": [
  {
   "cell_type": "code",
   "execution_count": 9,
   "metadata": {},
   "outputs": [
    {
     "name": "stdout",
     "output_type": "stream",
     "text": [
      "(datetime.datetime(2025, 6, 3, 0, 0), True)\n"
     ]
    }
   ],
   "source": [
    "from datetime import datetime\n",
    "import re\n",
    "\n",
    "def convert_to_date(date):\n",
    "    try:\n",
    "        date = date.split(\"\\n\")\n",
    "        date = date[-1].strip()\n",
    "        date = datetime.strptime(date, \"%b %d, %Y\")\n",
    "        return (date, True)\n",
    "    except ValueError:\n",
    "        return (date, False)\n",
    "\n",
    "date = 'Tuesday\\nJun 03, 2025'\n",
    "\n",
    "print(convert_to_date(date))"
   ]
  },
  {
   "cell_type": "code",
   "execution_count": 3,
   "metadata": {},
   "outputs": [
    {
     "name": "stdout",
     "output_type": "stream",
     "text": [
      "[',345', ',000']\n"
     ]
    }
   ],
   "source": [
    "import re\n",
    "\n",
    "pattern = r\"{}\\d{1,3}(,\\d{3})+\"  # Matches \"1,000\", \"12,345\", \"1,234,567\", etc.\n",
    "\n",
    "text = \"The population is 12,345 and the price is 1,000.\"\n",
    "\n",
    "matches = re.findall(pattern, text)\n",
    "print(matches)\n",
    "\n"
   ]
  }
 ],
 "metadata": {
  "kernelspec": {
   "display_name": "venv",
   "language": "python",
   "name": "python3"
  },
  "language_info": {
   "codemirror_mode": {
    "name": "ipython",
    "version": 3
   },
   "file_extension": ".py",
   "mimetype": "text/x-python",
   "name": "python",
   "nbconvert_exporter": "python",
   "pygments_lexer": "ipython3",
   "version": "3.11.6"
  }
 },
 "nbformat": 4,
 "nbformat_minor": 2
}
